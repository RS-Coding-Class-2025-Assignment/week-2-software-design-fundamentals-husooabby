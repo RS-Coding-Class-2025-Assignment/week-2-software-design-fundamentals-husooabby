{
 "cells": [
  {
   "cell_type": "code",
   "execution_count": 2,
   "metadata": {},
   "outputs": [],
   "source": [
    "import tkinter as tk"
   ]
  },
  {
   "cell_type": "code",
   "execution_count": 9,
   "metadata": {},
   "outputs": [
    {
     "name": "stdout",
     "output_type": "stream",
     "text": [
      "You has submitted your name!\n",
      "You has submitted your name!\n",
      "You has submitted your name!\n",
      "You has submitted your name!\n",
      "You has submitted your name!\n"
     ]
    }
   ],
   "source": [
    "from tkinter import ttk\n",
    "def example_function():\n",
    "    print(\"You has submitted your name!\")\n",
    "\n",
    "root = tk.Tk()\n",
    "root.title(\"Tkinter Example\")\n",
    "\n",
    "\n",
    "ttk.Label(root, text=\"Enter your name:\").grid(row=0, column=0, padx=5, pady=5, sticky=\"W\")\n",
    "\n",
    "name_entry = ttk.Entry(root, width = 30)\n",
    "name_entry.grid(row=0, column=1, padx=5, pady=5)\n",
    "\n",
    "ttk.Button(root, text=\"Submit\", command=example_function).grid(row=0, column=2, padx=5, pady=5)\n",
    "\n",
    "root.mainloop()"
   ]
  },
  {
   "cell_type": "code",
   "execution_count": 8,
   "metadata": {},
   "outputs": [],
   "source": [
    "from tkinter import ttk\n",
    "\n",
    "def example_function():\n",
    "    print(\"Sign up Complete!\")\n",
    "\n",
    "root = tk.Tk()\n",
    "root.title(\"Sign up\")\n",
    "\n",
    "#Label\n",
    "ttk.Label(root, text=\"Enter your username:\").grid(row=0, column=0, padx=5, pady=5, sticky=\"W\")\n",
    "ttk.Label(root, text= \"ID:\").grid(row=1, column=0, padx=5, pady=5, sticky=\"W\")\n",
    "ttk.Label(root, text= \"Password:\").grid(row=2, column=0, padx=5, pady=5, sticky=\"W\")\n",
    "ttk.Label(root, text= \"Confirm your Password:\").grid(row=3, column=0, padx=5, pady=5, sticky=\"W\")\n",
    "\n",
    "\n",
    "\n",
    "#Entry field\n",
    "name_entry=ttk.Entry(root, width=30)\n",
    "name_entry.grid(row=0, column=1, padx=5, pady=5)\n",
    "\n",
    "id_entry=ttk.Entry(root, width=30)\n",
    "id_entry.grid(row=1, column=1, padx=5, pady=5)\n",
    "\n",
    "pw_entry=ttk.Entry(root, width=30)\n",
    "pw_entry.grid(row=2, column=1, padx=5, pady=5)\n",
    "\n",
    "cpw_entry=ttk.Entry(root, width=30)\n",
    "cpw_entry.grid(row=3, column=1, padx=5, pady=5)\n",
    "\n",
    "#Button\n",
    "ttk.Button(root, text=\"Submit\", command=example_function).grid(row=4, column=1, padx=5, pady=5)\n",
    "\n",
    "root.mainloop()"
   ]
  }
 ],
 "metadata": {
  "kernelspec": {
   "display_name": "RS_Class_2025",
   "language": "python",
   "name": "python3"
  },
  "language_info": {
   "codemirror_mode": {
    "name": "ipython",
    "version": 3
   },
   "file_extension": ".py",
   "mimetype": "text/x-python",
   "name": "python",
   "nbconvert_exporter": "python",
   "pygments_lexer": "ipython3",
   "version": "3.11.9"
  }
 },
 "nbformat": 4,
 "nbformat_minor": 2
}
